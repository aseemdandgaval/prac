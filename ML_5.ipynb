{
 "cells": [
  {
   "cell_type": "markdown",
   "id": "f1dcdcea-e0f0-4b18-b80e-983612863174",
   "metadata": {},
   "source": [
    "# ML Assignment 5: Classification with K-NN and SVM"
   ]
  },
  {
   "cell_type": "markdown",
   "id": "ffe8f469-8b2c-43ab-8bc3-1cc8fd19c9da",
   "metadata": {},
   "source": [
    "#### 1. Importing libraries"
   ]
  },
  {
   "cell_type": "code",
   "execution_count": 1,
   "id": "88e7ebf0-7136-45da-ba01-06b6a4a05fec",
   "metadata": {},
   "outputs": [],
   "source": [
    "import numpy as np\n",
    "import pandas as pd\n",
    "import sklearn as sk\n",
    "import matplotlib.pyplot as plt\n",
    "import seaborn as sns"
   ]
  },
  {
   "cell_type": "markdown",
   "id": "fb8571ef-fd87-4fbe-b8fd-c89abf5de814",
   "metadata": {},
   "source": [
    "### 2. Loading and Understanding the data"
   ]
  },
  {
   "cell_type": "code",
   "execution_count": 2,
   "id": "551a2718-65e7-4584-ad2d-dcac6952244e",
   "metadata": {},
   "outputs": [],
   "source": [
    "df = pd.read_csv('emails.csv')"
   ]
  },
  {
   "cell_type": "code",
   "execution_count": 3,
   "id": "cae0eb42-94f9-404b-994b-18e2adf4488f",
   "metadata": {},
   "outputs": [
    {
     "data": {
      "text/html": [
       "<div>\n",
       "<style scoped>\n",
       "    .dataframe tbody tr th:only-of-type {\n",
       "        vertical-align: middle;\n",
       "    }\n",
       "\n",
       "    .dataframe tbody tr th {\n",
       "        vertical-align: top;\n",
       "    }\n",
       "\n",
       "    .dataframe thead th {\n",
       "        text-align: right;\n",
       "    }\n",
       "</style>\n",
       "<table border=\"1\" class=\"dataframe\">\n",
       "  <thead>\n",
       "    <tr style=\"text-align: right;\">\n",
       "      <th></th>\n",
       "      <th>Email No.</th>\n",
       "      <th>the</th>\n",
       "      <th>to</th>\n",
       "      <th>ect</th>\n",
       "      <th>and</th>\n",
       "      <th>for</th>\n",
       "      <th>of</th>\n",
       "      <th>a</th>\n",
       "      <th>you</th>\n",
       "      <th>hou</th>\n",
       "      <th>...</th>\n",
       "      <th>connevey</th>\n",
       "      <th>jay</th>\n",
       "      <th>valued</th>\n",
       "      <th>lay</th>\n",
       "      <th>infrastructure</th>\n",
       "      <th>military</th>\n",
       "      <th>allowing</th>\n",
       "      <th>ff</th>\n",
       "      <th>dry</th>\n",
       "      <th>Prediction</th>\n",
       "    </tr>\n",
       "  </thead>\n",
       "  <tbody>\n",
       "    <tr>\n",
       "      <th>0</th>\n",
       "      <td>Email 1</td>\n",
       "      <td>0</td>\n",
       "      <td>0</td>\n",
       "      <td>1</td>\n",
       "      <td>0</td>\n",
       "      <td>0</td>\n",
       "      <td>0</td>\n",
       "      <td>2</td>\n",
       "      <td>0</td>\n",
       "      <td>0</td>\n",
       "      <td>...</td>\n",
       "      <td>0</td>\n",
       "      <td>0</td>\n",
       "      <td>0</td>\n",
       "      <td>0</td>\n",
       "      <td>0</td>\n",
       "      <td>0</td>\n",
       "      <td>0</td>\n",
       "      <td>0</td>\n",
       "      <td>0</td>\n",
       "      <td>0</td>\n",
       "    </tr>\n",
       "    <tr>\n",
       "      <th>1</th>\n",
       "      <td>Email 2</td>\n",
       "      <td>8</td>\n",
       "      <td>13</td>\n",
       "      <td>24</td>\n",
       "      <td>6</td>\n",
       "      <td>6</td>\n",
       "      <td>2</td>\n",
       "      <td>102</td>\n",
       "      <td>1</td>\n",
       "      <td>27</td>\n",
       "      <td>...</td>\n",
       "      <td>0</td>\n",
       "      <td>0</td>\n",
       "      <td>0</td>\n",
       "      <td>0</td>\n",
       "      <td>0</td>\n",
       "      <td>0</td>\n",
       "      <td>0</td>\n",
       "      <td>1</td>\n",
       "      <td>0</td>\n",
       "      <td>0</td>\n",
       "    </tr>\n",
       "    <tr>\n",
       "      <th>2</th>\n",
       "      <td>Email 3</td>\n",
       "      <td>0</td>\n",
       "      <td>0</td>\n",
       "      <td>1</td>\n",
       "      <td>0</td>\n",
       "      <td>0</td>\n",
       "      <td>0</td>\n",
       "      <td>8</td>\n",
       "      <td>0</td>\n",
       "      <td>0</td>\n",
       "      <td>...</td>\n",
       "      <td>0</td>\n",
       "      <td>0</td>\n",
       "      <td>0</td>\n",
       "      <td>0</td>\n",
       "      <td>0</td>\n",
       "      <td>0</td>\n",
       "      <td>0</td>\n",
       "      <td>0</td>\n",
       "      <td>0</td>\n",
       "      <td>0</td>\n",
       "    </tr>\n",
       "    <tr>\n",
       "      <th>3</th>\n",
       "      <td>Email 4</td>\n",
       "      <td>0</td>\n",
       "      <td>5</td>\n",
       "      <td>22</td>\n",
       "      <td>0</td>\n",
       "      <td>5</td>\n",
       "      <td>1</td>\n",
       "      <td>51</td>\n",
       "      <td>2</td>\n",
       "      <td>10</td>\n",
       "      <td>...</td>\n",
       "      <td>0</td>\n",
       "      <td>0</td>\n",
       "      <td>0</td>\n",
       "      <td>0</td>\n",
       "      <td>0</td>\n",
       "      <td>0</td>\n",
       "      <td>0</td>\n",
       "      <td>0</td>\n",
       "      <td>0</td>\n",
       "      <td>0</td>\n",
       "    </tr>\n",
       "    <tr>\n",
       "      <th>4</th>\n",
       "      <td>Email 5</td>\n",
       "      <td>7</td>\n",
       "      <td>6</td>\n",
       "      <td>17</td>\n",
       "      <td>1</td>\n",
       "      <td>5</td>\n",
       "      <td>2</td>\n",
       "      <td>57</td>\n",
       "      <td>0</td>\n",
       "      <td>9</td>\n",
       "      <td>...</td>\n",
       "      <td>0</td>\n",
       "      <td>0</td>\n",
       "      <td>0</td>\n",
       "      <td>0</td>\n",
       "      <td>0</td>\n",
       "      <td>0</td>\n",
       "      <td>0</td>\n",
       "      <td>1</td>\n",
       "      <td>0</td>\n",
       "      <td>0</td>\n",
       "    </tr>\n",
       "  </tbody>\n",
       "</table>\n",
       "<p>5 rows × 3002 columns</p>\n",
       "</div>"
      ],
      "text/plain": [
       "  Email No.  the  to  ect  and  for  of    a  you  hou  ...  connevey  jay  \\\n",
       "0   Email 1    0   0    1    0    0   0    2    0    0  ...         0    0   \n",
       "1   Email 2    8  13   24    6    6   2  102    1   27  ...         0    0   \n",
       "2   Email 3    0   0    1    0    0   0    8    0    0  ...         0    0   \n",
       "3   Email 4    0   5   22    0    5   1   51    2   10  ...         0    0   \n",
       "4   Email 5    7   6   17    1    5   2   57    0    9  ...         0    0   \n",
       "\n",
       "   valued  lay  infrastructure  military  allowing  ff  dry  Prediction  \n",
       "0       0    0               0         0         0   0    0           0  \n",
       "1       0    0               0         0         0   1    0           0  \n",
       "2       0    0               0         0         0   0    0           0  \n",
       "3       0    0               0         0         0   0    0           0  \n",
       "4       0    0               0         0         0   1    0           0  \n",
       "\n",
       "[5 rows x 3002 columns]"
      ]
     },
     "execution_count": 3,
     "metadata": {},
     "output_type": "execute_result"
    }
   ],
   "source": [
    "df.head()"
   ]
  },
  {
   "cell_type": "code",
   "execution_count": 4,
   "id": "98e9ee2c-40a2-4bfd-94df-ff160ee38cc3",
   "metadata": {},
   "outputs": [
    {
     "data": {
      "text/plain": [
       "(5172, 3002)"
      ]
     },
     "execution_count": 4,
     "metadata": {},
     "output_type": "execute_result"
    }
   ],
   "source": [
    "df.shape"
   ]
  },
  {
   "cell_type": "code",
   "execution_count": 5,
   "id": "9aa20e80-87d5-4f91-baa0-2717d69658b8",
   "metadata": {},
   "outputs": [
    {
     "name": "stdout",
     "output_type": "stream",
     "text": [
      "<class 'pandas.core.frame.DataFrame'>\n",
      "RangeIndex: 5172 entries, 0 to 5171\n",
      "Columns: 3002 entries, Email No. to Prediction\n",
      "dtypes: int64(3001), object(1)\n",
      "memory usage: 118.5+ MB\n"
     ]
    }
   ],
   "source": [
    "df.info()"
   ]
  },
  {
   "cell_type": "markdown",
   "id": "4024a636-2f6f-444e-8b96-056838a1d900",
   "metadata": {},
   "source": [
    "### 3. Handling Missing Values"
   ]
  },
  {
   "cell_type": "code",
   "execution_count": 6,
   "id": "0f81b7a8-a3bf-4141-ad47-dc9e949e4d6b",
   "metadata": {},
   "outputs": [
    {
     "data": {
      "text/plain": [
       "Email No.     0\n",
       "the           0\n",
       "to            0\n",
       "ect           0\n",
       "and           0\n",
       "             ..\n",
       "military      0\n",
       "allowing      0\n",
       "ff            0\n",
       "dry           0\n",
       "Prediction    0\n",
       "Length: 3002, dtype: int64"
      ]
     },
     "execution_count": 6,
     "metadata": {},
     "output_type": "execute_result"
    }
   ],
   "source": [
    "df.isnull().sum()"
   ]
  },
  {
   "cell_type": "code",
   "execution_count": 7,
   "id": "769eb4ab-734c-43e4-9df2-8210b44c42c5",
   "metadata": {},
   "outputs": [],
   "source": [
    "df.dropna(inplace = True)"
   ]
  },
  {
   "cell_type": "code",
   "execution_count": 8,
   "id": "7fbb34a5-26b5-4e10-a11e-00fc2256c34f",
   "metadata": {},
   "outputs": [
    {
     "data": {
      "text/plain": [
       "(5172, 3002)"
      ]
     },
     "execution_count": 8,
     "metadata": {},
     "output_type": "execute_result"
    }
   ],
   "source": [
    "df.shape"
   ]
  },
  {
   "cell_type": "markdown",
   "id": "26ac794f-75da-448e-ab21-da568c080688",
   "metadata": {},
   "source": [
    "### 4. Dropping unnecesary columns"
   ]
  },
  {
   "cell_type": "code",
   "execution_count": 15,
   "id": "d618aa58-124e-480a-98b5-98ed98602da7",
   "metadata": {
    "tags": []
   },
   "outputs": [],
   "source": [
    "drop = ['Email No.']\n",
    "df.drop(drop, axis=1, inplace=True)"
   ]
  },
  {
   "cell_type": "markdown",
   "id": "84356ee6-d3cd-4e05-838f-eca6127217ec",
   "metadata": {
    "tags": []
   },
   "source": [
    "### 5. Splitting the dataset into training and test sets"
   ]
  },
  {
   "cell_type": "code",
   "execution_count": 16,
   "id": "0cdb8af6-74f5-493b-a8c4-706740bc795c",
   "metadata": {},
   "outputs": [],
   "source": [
    "x = df.iloc[: , :-1].values\n",
    "y = df.iloc[: , -1].values"
   ]
  },
  {
   "cell_type": "code",
   "execution_count": 17,
   "id": "11bdc3b3-7109-4f9f-ad87-f488f4389b2a",
   "metadata": {},
   "outputs": [
    {
     "name": "stdout",
     "output_type": "stream",
     "text": [
      "[[ 0  0  1 ...  0  0  0]\n",
      " [ 8 13 24 ...  0  1  0]\n",
      " [ 0  0  1 ...  0  0  0]\n",
      " ...\n",
      " [ 0  0  1 ...  0  0  0]\n",
      " [ 2  7  1 ...  0  1  0]\n",
      " [22 24  5 ...  0  0  0]]\n"
     ]
    }
   ],
   "source": [
    "print(x)"
   ]
  },
  {
   "cell_type": "code",
   "execution_count": 18,
   "id": "001104f2-1565-4273-a753-b50ee43fefb8",
   "metadata": {},
   "outputs": [
    {
     "name": "stdout",
     "output_type": "stream",
     "text": [
      "[0 0 0 ... 1 1 0]\n"
     ]
    }
   ],
   "source": [
    "print(y)"
   ]
  },
  {
   "cell_type": "code",
   "execution_count": 19,
   "id": "cf496f71-71b1-4bf6-9b20-770a15e4160f",
   "metadata": {},
   "outputs": [],
   "source": [
    "from sklearn.model_selection import train_test_split\n",
    "\n",
    "X_train, X_test, y_train, y_test = train_test_split(x, y, test_size =0.25, random_state=42)"
   ]
  },
  {
   "cell_type": "code",
   "execution_count": 20,
   "id": "3561c468-920f-4091-96a9-df88bb8d24b7",
   "metadata": {},
   "outputs": [
    {
     "name": "stdout",
     "output_type": "stream",
     "text": [
      "[[ 3  6  1 ...  0  1  0]\n",
      " [ 1  0  1 ...  0  0  0]\n",
      " [ 4  3 19 ...  0  0  0]\n",
      " ...\n",
      " [ 0  0  1 ...  0  0  0]\n",
      " [ 2 11  1 ...  0  3  0]\n",
      " [ 3  0  1 ...  0  0  0]]\n"
     ]
    }
   ],
   "source": [
    "print(X_train)"
   ]
  },
  {
   "cell_type": "code",
   "execution_count": 21,
   "id": "f114780b-6229-4bb3-90db-8445c3ee4118",
   "metadata": {},
   "outputs": [
    {
     "name": "stdout",
     "output_type": "stream",
     "text": [
      "[[ 1  1  1 ...  0  0  0]\n",
      " [13 20 66 ...  0  0  0]\n",
      " [ 1 14  3 ...  0  5  0]\n",
      " ...\n",
      " [18 10 10 ...  0  0  0]\n",
      " [12  6  4 ...  0  2  0]\n",
      " [ 2  3  1 ...  0  0  0]]\n"
     ]
    }
   ],
   "source": [
    "print(X_test)"
   ]
  },
  {
   "cell_type": "code",
   "execution_count": 22,
   "id": "26daa611-9f75-4e64-80dc-598da419fca8",
   "metadata": {},
   "outputs": [
    {
     "name": "stdout",
     "output_type": "stream",
     "text": [
      "[1 0 0 ... 0 1 1]\n"
     ]
    }
   ],
   "source": [
    "print(y_train)"
   ]
  },
  {
   "cell_type": "code",
   "execution_count": 23,
   "id": "339c6a28-0902-48be-b8e6-76afac50b5b3",
   "metadata": {},
   "outputs": [
    {
     "name": "stdout",
     "output_type": "stream",
     "text": [
      "[0 0 1 ... 0 0 0]\n"
     ]
    }
   ],
   "source": [
    "print(y_test)"
   ]
  },
  {
   "cell_type": "markdown",
   "id": "6cdea211-2db6-4088-8eff-0178326f09ea",
   "metadata": {},
   "source": [
    "### 6. Feature Scaling"
   ]
  },
  {
   "cell_type": "code",
   "execution_count": 24,
   "id": "d44d3384-3bf3-4931-a8e5-d5309613b48d",
   "metadata": {},
   "outputs": [],
   "source": [
    "from sklearn.preprocessing import StandardScaler\n",
    "\n",
    "std = StandardScaler()\n",
    "X_train = std.fit_transform(X_train)\n",
    "X_test = std.fit_transform(X_test)"
   ]
  },
  {
   "cell_type": "code",
   "execution_count": 25,
   "id": "457533d4-0d03-491b-92f2-057385e9a834",
   "metadata": {},
   "outputs": [
    {
     "name": "stdout",
     "output_type": "stream",
     "text": [
      "[[-0.3020719  -0.00981071 -0.29349781 ... -0.05909681  0.03852534\n",
      "  -0.06785933]\n",
      " [-0.47453832 -0.65482303 -0.29349781 ... -0.05909681 -0.3268531\n",
      "  -0.06785933]\n",
      " [-0.21583869 -0.33231687  0.96735274 ... -0.05909681 -0.3268531\n",
      "  -0.06785933]\n",
      " ...\n",
      " [-0.56077153 -0.65482303 -0.29349781 ... -0.05909681 -0.3268531\n",
      "  -0.06785933]\n",
      " [-0.38830511  0.52769956 -0.29349781 ... -0.05909681  0.7692822\n",
      "  -0.06785933]\n",
      " [-0.3020719  -0.65482303 -0.29349781 ... -0.05909681 -0.3268531\n",
      "  -0.06785933]]\n"
     ]
    }
   ],
   "source": [
    "print(X_train)"
   ]
  },
  {
   "cell_type": "code",
   "execution_count": 26,
   "id": "3ac7da52-d7ab-410c-ba57-c90892f29422",
   "metadata": {},
   "outputs": [
    {
     "name": "stdout",
     "output_type": "stream",
     "text": [
      "[[-0.49756096 -0.53759643 -0.29546753 ... -0.04822428 -0.33578325\n",
      "  -0.08372184]\n",
      " [ 0.48878833  1.32676432  4.49939022 ... -0.04822428 -0.33578325\n",
      "  -0.08372184]\n",
      " [-0.49756096  0.73801882 -0.14793344 ... -0.04822428  1.38573832\n",
      "  -0.08372184]\n",
      " ...\n",
      " [ 0.8997672   0.34552182  0.36843585 ... -0.04822428 -0.33578325\n",
      "  -0.08372184]\n",
      " [ 0.40659256 -0.04697518 -0.0741664  ... -0.04822428  0.35282538\n",
      "  -0.08372184]\n",
      " [-0.41536519 -0.34134793 -0.29546753 ... -0.04822428 -0.33578325\n",
      "  -0.08372184]]\n"
     ]
    }
   ],
   "source": [
    "print(X_test)"
   ]
  },
  {
   "cell_type": "markdown",
   "id": "56b6388d-9e39-43a6-bc1c-40eb1bdf130d",
   "metadata": {},
   "source": [
    "### 7. Implementing KNN and metrics"
   ]
  },
  {
   "cell_type": "code",
   "execution_count": 48,
   "id": "1ed16e72-dbce-4081-9f0a-15032126f4cd",
   "metadata": {},
   "outputs": [
    {
     "data": {
      "text/plain": [
       "KNeighborsClassifier(n_neighbors=7)"
      ]
     },
     "execution_count": 48,
     "metadata": {},
     "output_type": "execute_result"
    }
   ],
   "source": [
    "from sklearn.neighbors import KNeighborsClassifier\n",
    "\n",
    "model = KNeighborsClassifier(n_neighbors=7)\n",
    "model.fit(X_train, y_train)"
   ]
  },
  {
   "cell_type": "code",
   "execution_count": 49,
   "id": "34dc07ee-5d54-4cc3-a250-fef146aa221f",
   "metadata": {},
   "outputs": [],
   "source": [
    "from sklearn.metrics import accuracy_score, precision_score, recall_score, f1_score\n",
    "from sklearn.metrics import confusion_matrix, ConfusionMatrixDisplay, classification_report\n",
    "\n",
    "y_pred = model.predict(X_test)"
   ]
  },
  {
   "cell_type": "code",
   "execution_count": 50,
   "id": "4bb1e7da-e030-40ae-8ee6-e70cf83352ae",
   "metadata": {},
   "outputs": [],
   "source": [
    "tn, fp, fn, tp  = confusion_matrix(y_test, y_pred).ravel()\n",
    "\n",
    "accuracy = (tp+tn) / (tp+fp+fn+tn)\n",
    "precision = (tp) / (tp+fp)\n",
    "recall = (tp) / (tp+fn)\n",
    "f1_score = 2*((recall*precision) / (recall+precision))"
   ]
  },
  {
   "cell_type": "code",
   "execution_count": 51,
   "id": "11f36dd5-3032-4889-9e8c-447dacd4d381",
   "metadata": {},
   "outputs": [
    {
     "data": {
      "text/plain": [
       "<sklearn.metrics._plot.confusion_matrix.ConfusionMatrixDisplay at 0x209d133d550>"
      ]
     },
     "execution_count": 51,
     "metadata": {},
     "output_type": "execute_result"
    },
    {
     "data": {
      "image/png": "[encoded data removed]",
      "text/plain": [
       "<Figure size 432x288 with 2 Axes>"
      ]
     },
     "metadata": {
      "needs_background": "light"
     },
     "output_type": "display_data"
    }
   ],
   "source": [
    "cm = confusion_matrix(y_test, y_pred)\n",
    "\n",
    "ConfusionMatrixDisplay(cm).plot()"
   ]
  },
  {
   "cell_type": "code",
   "execution_count": 52,
   "id": "57b63682-9ef0-4b23-95bd-ea5cafebf9ec",
   "metadata": {},
   "outputs": [
    {
     "name": "stdout",
     "output_type": "stream",
     "text": [
      "Accuracy:\t 80.2784222737819 \n",
      "Precision:\t 60.434056761268785 \n",
      "Recall: \t 95.26315789473684 \n",
      "F1-Score:\t 73.95301327885598\n"
     ]
    }
   ],
   "source": [
    "print( \n",
    "    'Accuracy:\\t',accuracy*100,\n",
    "    '\\nPrecision:\\t',precision*100,\n",
    "    '\\nRecall: \\t',recall*100,\n",
    "    '\\nF1-Score:\\t',f1_score*100)"
   ]
  },
  {
   "cell_type": "code",
   "execution_count": 53,
   "id": "e100af97-c984-494d-932d-692ed32cc6eb",
   "metadata": {},
   "outputs": [
    {
     "name": "stdout",
     "output_type": "stream",
     "text": [
      "Accuracy:\t 80.2784222737819 \n",
      "Precision:\t 60.434056761268785 \n",
      "Recall: \t 95.26315789473684\n"
     ]
    }
   ],
   "source": [
    "print( \n",
    "    'Accuracy:\\t',accuracy_score(y_test, y_pred)*100,\n",
    "    '\\nPrecision:\\t',precision_score(y_test, y_pred)*100,\n",
    "    '\\nRecall: \\t',recall_score(y_test, y_pred)*100,)"
   ]
  },
  {
   "cell_type": "markdown",
   "id": "0903500c-6715-4750-b4c0-9fbd94374f00",
   "metadata": {},
   "source": [
    "### 8. Implementing SVM and metrics"
   ]
  },
  {
   "cell_type": "code",
   "execution_count": 54,
   "id": "8801ead5-a856-4040-9de2-a9b6d7e58f10",
   "metadata": {},
   "outputs": [
    {
     "data": {
      "text/plain": [
       "SVC(C=1)"
      ]
     },
     "execution_count": 54,
     "metadata": {},
     "output_type": "execute_result"
    }
   ],
   "source": [
    "from sklearn.svm import SVC\n",
    "\n",
    "model = SVC(C=1)\n",
    "model.fit(X_train, y_train)"
   ]
  },
  {
   "cell_type": "code",
   "execution_count": 55,
   "id": "682906e9-550f-4ccb-bf0b-100b362e2693",
   "metadata": {},
   "outputs": [],
   "source": [
    "from sklearn.metrics import accuracy_score, precision_score, recall_score, f1_score\n",
    "from sklearn.metrics import confusion_matrix, ConfusionMatrixDisplay, classification_report\n",
    "\n",
    "y_pred = model.predict(X_test)"
   ]
  },
  {
   "cell_type": "code",
   "execution_count": 56,
   "id": "9064480d-99d3-4d2a-af33-de33eb9aee1b",
   "metadata": {},
   "outputs": [],
   "source": [
    "tn, fp, fn, tp  = confusion_matrix(y_test, y_pred).ravel()\n",
    "\n",
    "accuracy = (tp+tn) / (tp+fp+fn+tn)\n",
    "precision = (tp) / (tp+fp)\n",
    "recall = (tp) / (tp+fn)\n",
    "f1_score = 2*((recall*precision) / (recall+precision))"
   ]
  },
  {
   "cell_type": "code",
   "execution_count": 57,
   "id": "e1ddbc4f-2e62-44bf-9af1-a73a90ea378d",
   "metadata": {},
   "outputs": [
    {
     "data": {
      "text/plain": [
       "<sklearn.metrics._plot.confusion_matrix.ConfusionMatrixDisplay at 0x209d191e0d0>"
      ]
     },
     "execution_count": 57,
     "metadata": {},
     "output_type": "execute_result"
    },
    {
     "data": {
      "image/png": "[encoded data removed]",
      "text/plain": [
       "<Figure size 432x288 with 2 Axes>"
      ]
     },
     "metadata": {
      "needs_background": "light"
     },
     "output_type": "display_data"
    }
   ],
   "source": [
    "cm = confusion_matrix(y_test, y_pred)\n",
    "\n",
    "ConfusionMatrixDisplay(cm).plot()"
   ]
  },
  {
   "cell_type": "code",
   "execution_count": 58,
   "id": "18ba6d11-66b3-43d0-9b70-2493f31e4192",
   "metadata": {},
   "outputs": [
    {
     "name": "stdout",
     "output_type": "stream",
     "text": [
      "Accuracy:\t 93.4261407579273 \n",
      "Precision:\t 99.33110367892976 \n",
      "Recall: \t 78.15789473684211 \n",
      "F1-Score:\t 87.48159057437407\n"
     ]
    }
   ],
   "source": [
    "print( \n",
    "    'Accuracy:\\t',accuracy*100,\n",
    "    '\\nPrecision:\\t',precision*100,\n",
    "    '\\nRecall: \\t',recall*100,\n",
    "    '\\nF1-Score:\\t',f1_score*100)"
   ]
  },
  {
   "cell_type": "code",
   "execution_count": 59,
   "id": "777eaed4-e04e-4136-847c-45d9054b68cc",
   "metadata": {},
   "outputs": [
    {
     "name": "stdout",
     "output_type": "stream",
     "text": [
      "Accuracy:\t 93.4261407579273 \n",
      "Precision:\t 99.33110367892976 \n",
      "Recall: \t 78.15789473684211\n"
     ]
    }
   ],
   "source": [
    "print( \n",
    "    'Accuracy:\\t',accuracy_score(y_test, y_pred)*100,\n",
    "    '\\nPrecision:\\t',precision_score(y_test, y_pred)*100,\n",
    "    '\\nRecall: \\t',recall_score(y_test, y_pred)*100,)"
   ]
  }
 ],
 "metadata": {
  "kernelspec": {
   "display_name": "Python 3 (ipykernel)",
   "language": "python",
   "name": "python3"
  },
  "language_info": {
   "codemirror_mode": {
    "name": "ipython",
    "version": 3
   },
   "file_extension": ".py",
   "mimetype": "text/x-python",
   "name": "python",
   "nbconvert_exporter": "python",
   "pygments_lexer": "ipython3",
   "version": "3.9.7"
  }
 },
 "nbformat": 4,
 "nbformat_minor": 5
}
